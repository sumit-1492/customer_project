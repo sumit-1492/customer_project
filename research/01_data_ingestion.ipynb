{
 "cells": [
  {
   "cell_type": "code",
   "execution_count": 1,
   "metadata": {},
   "outputs": [],
   "source": [
    "import os"
   ]
  },
  {
   "cell_type": "code",
   "execution_count": 2,
   "metadata": {},
   "outputs": [
    {
     "data": {
      "text/plain": [
       "'g:\\\\success_analytics_courses\\\\Customer_personality_analysis_project\\\\research'"
      ]
     },
     "execution_count": 2,
     "metadata": {},
     "output_type": "execute_result"
    }
   ],
   "source": [
    "%pwd"
   ]
  },
  {
   "cell_type": "code",
   "execution_count": 3,
   "metadata": {},
   "outputs": [],
   "source": [
    "os.chdir(\"../\")"
   ]
  },
  {
   "cell_type": "code",
   "execution_count": 4,
   "metadata": {},
   "outputs": [
    {
     "data": {
      "text/plain": [
       "'g:\\\\success_analytics_courses\\\\Customer_personality_analysis_project'"
      ]
     },
     "execution_count": 4,
     "metadata": {},
     "output_type": "execute_result"
    }
   ],
   "source": [
    "%pwd"
   ]
  },
  {
   "cell_type": "markdown",
   "metadata": {},
   "source": [
    "step - 1 config.yaml completed"
   ]
  },
  {
   "cell_type": "code",
   "execution_count": 5,
   "metadata": {},
   "outputs": [],
   "source": [
    "## step - 2 updating entity\n",
    "## it will return the data types all data_ingestion requirements\n",
    "\n",
    "from dataclasses import dataclass\n",
    "from pathlib import Path\n",
    "\n",
    "@dataclass(frozen=True)\n",
    "class DataIngestionConfiguration:\n",
    "\n",
    "    root_dir: Path\n",
    "    dataset_download_url: str\n",
    "    zip_data_dir: Path\n",
    "    unzip_data_dir: Path"
   ]
  },
  {
   "cell_type": "code",
   "execution_count": 6,
   "metadata": {},
   "outputs": [],
   "source": [
    "# updating configuration manager in src config\n",
    "\n",
    "from customerpersonality.logging import logging\n",
    "from customerpersonality.constants import *\n",
    "from customerpersonality.utils.common import read_yaml, create_directories\n",
    "from customerpersonality.entity import DataIngestionConfiguration\n",
    "\n",
    "class ConfigurationManager:\n",
    "\n",
    "    def __init__(self, config_file_path: str = CONFIG_FILE_PATH):\n",
    "\n",
    "        try:\n",
    "\n",
    "            #self.config_file_path = CONFIG_FILE_PATH\n",
    "\n",
    "            self.config = read_yaml(config_file_path) ## read config.yaml file\n",
    "\n",
    "            create_directories([self.config.artifacts_dir])\n",
    "\n",
    "            logging.info(f\"artifacts directory created: {self.config.artifacts_dir}\")\n",
    "\n",
    "        except Exception as e:\n",
    "\n",
    "            raise e\n",
    "\n",
    "        \n",
    "    def get_data_ingestion_config(self) -> DataIngestionConfiguration:\n",
    "\n",
    "        try:\n",
    "\n",
    "            artifacts_dir = self.config.artifacts_dir\n",
    "            config = self.config.data_ingestion_config\n",
    "            \n",
    "            data_ingestion_dir = os.path.join(artifacts_dir,config.root_dir)\n",
    "            create_directories([data_ingestion_dir])\n",
    "\n",
    "            raw_data_dir = os.path.join(data_ingestion_dir,config.zip_data_dir)\n",
    "            create_directories([raw_data_dir])\n",
    "\n",
    "            ingested_unzip_csv_file_dir = os.path.join(data_ingestion_dir,config.unzip_data_dir)\n",
    "            create_directories([ingested_unzip_csv_file_dir])\n",
    "\n",
    "            data_ingestion_config = DataIngestionConfiguration( \n",
    "                                        root_dir = config.root_dir,\n",
    "                                        dataset_download_url = config.dataset_download_url,\n",
    "                                        zip_data_dir = raw_data_dir,\n",
    "                                        unzip_data_dir = ingested_unzip_csv_file_dir,\n",
    "                                    )\n",
    "            logging.info(f\" Data ingestion configuration: {data_ingestion_config}\")\n",
    "\n",
    "            return data_ingestion_config\n",
    "        \n",
    "        except Exception as e:\n",
    "            raise e"
   ]
  },
  {
   "cell_type": "code",
   "execution_count": 7,
   "metadata": {},
   "outputs": [],
   "source": [
    "## updating components\n",
    "\n",
    "import os\n",
    "import urllib.request as request\n",
    "import zipfile\n",
    "from customerpersonality.logging import logging\n",
    "from customerpersonality.utils.common import get_file_size\n",
    "from customerpersonality.entity import DataIngestionConfiguration\n",
    "\n",
    "class DataIngestion:\n",
    "\n",
    "    def __init__(self, config : DataIngestionConfiguration):\n",
    "\n",
    "        try:\n",
    "            self.config = config\n",
    "        except Exception as e:\n",
    "            raise e\n",
    "        \n",
    "    def download_zip_file(self):\n",
    "\n",
    "        try:\n",
    "            zip_file_name = os.path.basename(self.config.dataset_download_url)\n",
    "            zip_data_path = os.path.join(self.config.zip_data_dir,zip_file_name)\n",
    "            self.zip_data_path_ = zip_data_path\n",
    "            if not os.path.exists(zip_data_path):\n",
    "                filename, headers = request.urlretrieve(\n",
    "                    url = self.config.dataset_download_url,\n",
    "                    filename = zip_data_path\n",
    "                )\n",
    "                logging.info(f\"{filename} download! with following info: \\n{headers}\")\n",
    "            else:\n",
    "                logging.info(f\"File already exists of size: {get_file_size(Path(zip_data_path))}\") \n",
    "\n",
    "        except Exception as e:\n",
    "            raise e\n",
    "        \n",
    "    def extract_zip_file(self):\n",
    "\n",
    "        try:\n",
    "            unzip_data_path = self.config.unzip_data_dir\n",
    "            with zipfile.ZipFile(self.zip_data_path_, 'r') as zip_file:\n",
    "                zip_file.extractall(unzip_data_path)\n",
    "            \n",
    "            logging.info(f\"Data unzipped in: {unzip_data_path}\")\n",
    "\n",
    "        except Exception as e:\n",
    "            raise e\n",
    "        "
   ]
  },
  {
   "cell_type": "code",
   "execution_count": 8,
   "metadata": {},
   "outputs": [
    {
     "name": "stdout",
     "output_type": "stream",
     "text": [
      "[2023-07-27 07:51:27,610: INFO: common: yaml file: g:\\success_analytics_courses\\Customer_personality_analysis_project\\config\\config.yaml read successfully]\n",
      "[2023-07-27 07:51:27,614: INFO: common: Directory created at:artifacts]\n",
      "[2023-07-27 07:51:27,619: INFO: 3622309105: artifacts directory created: artifacts]\n",
      "[2023-07-27 07:51:27,622: INFO: common: Directory created at:artifacts\\data_ingestion]\n",
      "[2023-07-27 07:51:27,628: INFO: common: Directory created at:artifacts\\data_ingestion\\raw_data]\n",
      "[2023-07-27 07:51:27,631: INFO: common: Directory created at:artifacts\\data_ingestion\\ingested_data]\n",
      "[2023-07-27 07:51:27,635: INFO: 3622309105:  Data ingestion configuration: DataIngestionConfiguration(root_dir='data_ingestion', dataset_download_url='https://github.com/sumit-1492/datasets/raw/main/marketing_campaign.zip', zip_data_dir='artifacts\\\\data_ingestion\\\\raw_data', unzip_data_dir='artifacts\\\\data_ingestion\\\\ingested_data')]\n",
      "[2023-07-27 07:51:34,801: INFO: 2152330188: artifacts\\data_ingestion\\raw_data\\marketing_campaign.zip download! with following info: \n",
      "Connection: close\n",
      "Content-Length: 57089\n",
      "Cache-Control: max-age=300\n",
      "Content-Security-Policy: default-src 'none'; style-src 'unsafe-inline'; sandbox\n",
      "Content-Type: application/zip\n",
      "ETag: \"66eed03531650c5c399b07a66b2816da7fedb8375e8afa5be6da991f4fa7a7b9\"\n",
      "Strict-Transport-Security: max-age=31536000\n",
      "X-Content-Type-Options: nosniff\n",
      "X-Frame-Options: deny\n",
      "X-XSS-Protection: 1; mode=block\n",
      "X-GitHub-Request-Id: BE8C:2A117E:7DD1:11531:64C1D472\n",
      "Accept-Ranges: bytes\n",
      "Date: Thu, 27 Jul 2023 02:21:34 GMT\n",
      "Via: 1.1 varnish\n",
      "X-Served-By: cache-ccu830051-CCU\n",
      "X-Cache: MISS\n",
      "X-Cache-Hits: 0\n",
      "X-Timer: S1690424494.093565,VS0,VE466\n",
      "Vary: Authorization,Accept-Encoding,Origin\n",
      "Access-Control-Allow-Origin: *\n",
      "Cross-Origin-Resource-Policy: cross-origin\n",
      "X-Fastly-Request-ID: bd94f5e2463e31cb21af9d2cb117a776a4b38d87\n",
      "Expires: Thu, 27 Jul 2023 02:26:34 GMT\n",
      "Source-Age: 0\n",
      "\n",
      "]\n",
      "[2023-07-27 07:51:34,816: INFO: 2152330188: Data unzipped in: artifacts\\data_ingestion\\ingested_data]\n"
     ]
    }
   ],
   "source": [
    "## updating pipeline\n",
    "\n",
    "try:\n",
    "    config = ConfigurationManager()\n",
    "    data_ingestion_config = config.get_data_ingestion_config()\n",
    "    data_ingestion = DataIngestion(config=data_ingestion_config)\n",
    "    data_ingestion.download_zip_file()\n",
    "    data_ingestion.extract_zip_file()\n",
    "except Exception as e:\n",
    "    raise e"
   ]
  }
 ],
 "metadata": {
  "kernelspec": {
   "display_name": "customerenv",
   "language": "python",
   "name": "python3"
  },
  "language_info": {
   "codemirror_mode": {
    "name": "ipython",
    "version": 3
   },
   "file_extension": ".py",
   "mimetype": "text/x-python",
   "name": "python",
   "nbconvert_exporter": "python",
   "pygments_lexer": "ipython3",
   "version": "3.8.17"
  },
  "orig_nbformat": 4
 },
 "nbformat": 4,
 "nbformat_minor": 2
}
